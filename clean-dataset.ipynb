{
 "cells": [
  {
   "cell_type": "code",
   "execution_count": 12,
   "id": "8f08e0df-53b2-49b1-ae20-161c508251df",
   "metadata": {},
   "outputs": [],
   "source": [
    "import pandas as pd\n",
    "import numpy as np"
   ]
  },
  {
   "cell_type": "code",
   "execution_count": 13,
   "id": "8df328a3-8f02-4b88-89f5-28f59395361d",
   "metadata": {},
   "outputs": [],
   "source": [
    "# Load\n",
    "flights = pd.read_csv('Dataset/Flight_Level_Data.csv')\n",
    "pnr_flight = pd.read_csv('Dataset/PNR_Flight_Level_Data.csv')\n",
    "pnr_remarks = pd.read_csv('Dataset/PNR_Remark_Level_Data.csv')\n",
    "airports = pd.read_csv('Dataset/Airports_Data.csv')\n",
    "bags = pd.read_csv('Dataset/Bag_Level_Data.csv')"
   ]
  },
  {
   "cell_type": "code",
   "execution_count": 14,
   "id": "911bbfda-56d2-49fe-87f7-2d9f01e08980",
   "metadata": {},
   "outputs": [
    {
     "name": "stdout",
     "output_type": "stream",
     "text": [
      "PNR_Flight columns: ['company_id', 'flight_number', 'scheduled_departure_date_local', 'scheduled_departure_station_code', 'scheduled_arrival_station_code', 'record_locator', 'pnr_creation_date', 'total_pax', 'is_child', 'basic_economy_ind', 'is_stroller_user', 'lap_child_count']\n"
     ]
    }
   ],
   "source": [
    "# ------------------ PNR FLIGHT LEVEL DATA ------------------\n",
    "pnr_flight = pnr_flight.drop_duplicates()\n",
    "print(\"PNR_Flight columns:\", pnr_flight.columns.tolist())  # Inspect for cleaning\n",
    "\n",
    "count_cols = ['total_pax', 'lap_child_count', 'basic_economy_pax']\n",
    "for col in count_cols:\n",
    "    if col in pnr_flight.columns:\n",
    "        pnr_flight[col] = pd.to_numeric(pnr_flight[col], errors='coerce').fillna(0)\n",
    "\n",
    "if 'is_child' in pnr_flight.columns:\n",
    "    pnr_flight['is_child'] = pnr_flight['is_child'].astype(str).str.lower().map({'true': 1, 'false': 0, 'yes': 1, 'no': 0})\n",
    "\n",
    "if 'is_stroller_user' in pnr_flight.columns:\n",
    "    pnr_flight['is_stroller_user'] = pnr_flight['is_stroller_user'].astype(str).str.lower().map({'true': 1, 'false': 0, 'yes': 1, 'no': 0})\n",
    "\n",
    "if 'company_id' in pnr_flight.columns:\n",
    "    pnr_flight['company_id'] = pnr_flight['company_id'].astype(str).str.upper().str.strip()"
   ]
  },
  {
   "cell_type": "code",
   "execution_count": 15,
   "id": "5d81a75b-2a53-4a87-af0e-b9fdf37fe6ab",
   "metadata": {},
   "outputs": [],
   "source": [
    "# ------------------ FLIGHT LEVEL DATA ------------------\n",
    "flights = flights.drop_duplicates()\n",
    "\n",
    "date_cols = [\n",
    "    'scheduled_departure_datetime_local', 'scheduled_arrival_datetime_local',\n",
    "    'actual_departure_datetime_local', 'actual_arrival_datetime_local'\n",
    "]\n",
    "for col in date_cols:\n",
    "    if col in flights.columns:\n",
    "        flights[col] = pd.to_datetime(flights[col], errors='coerce')\n",
    "\n",
    "num_cols = ['total_seats', 'scheduled_ground_time_minutes', 'actual_ground_time_minutes', 'minimum_turn_minutes']\n",
    "for col in num_cols:\n",
    "    if col in flights.columns:\n",
    "        flights[col] = pd.to_numeric(flights[col], errors='coerce')\n",
    "        flights[col] = flights[col].fillna(flights[col].median())\n",
    "\n",
    "for col in ['company_id', 'flight_number']:\n",
    "    if col in flights.columns:\n",
    "        flights[col] = flights[col].astype(str).str.upper().str.strip()"
   ]
  },
  {
   "cell_type": "code",
   "execution_count": 16,
   "id": "7645c3a3-1562-4ecc-a3ed-c2e8ac79dcda",
   "metadata": {},
   "outputs": [],
   "source": [
    "# ------------------ PNR REMARKS DATA ------------------\n",
    "pnr_remarks = pnr_remarks.drop_duplicates()\n",
    "if 'record_locator' in pnr_remarks.columns:\n",
    "    pnr_remarks['record_locator'] = pnr_remarks['record_locator'].astype(str).str.strip()\n",
    "\n",
    "if 'special_service_request' in pnr_remarks.columns:\n",
    "    pnr_remarks['special_service_request'] = pnr_remarks['special_service_request'].fillna('NONE')\n",
    "\n",
    "if 'flight_number' in pnr_remarks.columns:\n",
    "    pnr_remarks['flight_number'] = pnr_remarks['flight_number'].astype(str).str.strip()\n",
    "\n",
    "if 'pnr_creation_date' in pnr_remarks.columns:\n",
    "    pnr_remarks['pnr_creation_date'] = pd.to_datetime(pnr_remarks['pnr_creation_date'], errors='coerce')"
   ]
  },
  {
   "cell_type": "code",
   "execution_count": 17,
   "id": "28d051a4-3a10-4e48-a6f9-b96918123adc",
   "metadata": {},
   "outputs": [],
   "source": [
    "# ------------------ AIRPORTS DATA ------------------\n",
    "airports = airports.drop_duplicates()\n",
    "if 'airport_iata_code' in airports.columns:\n",
    "    airports['airport_iata_code'] = airports['airport_iata_code'].astype(str).str.upper().str.strip()\n",
    "if 'iso_country_code' in airports.columns:\n",
    "    airports['iso_country_code'] = airports['iso_country_code'].astype(str).str.upper().str.strip()"
   ]
  },
  {
   "cell_type": "code",
   "execution_count": 18,
   "id": "8352cb67-0ab9-4d5b-9c4e-5abec91a58bf",
   "metadata": {},
   "outputs": [],
   "source": [
    "# ------------------ BAG LEVEL DATA ------------------\n",
    "bags = bags.drop_duplicates()\n",
    "if 'bag_type' in bags.columns:\n",
    "    bags['bag_type'] = bags['bag_type'].astype(str).str.title().str.strip()\n",
    "if 'bag_tag_issue_date' in bags.columns:\n",
    "    bags['bag_tag_issue_date'] = pd.to_datetime(bags['bag_tag_issue_date'], errors='coerce')\n",
    "if 'company_id' in bags.columns:\n",
    "    bags['company_id'] = bags['company_id'].astype(str).str.upper().str.strip()\n",
    "\n",
    "for df in [flights, pnr_flight, pnr_remarks, bags]:\n",
    "    if 'flight_number' in df.columns:\n",
    "        df['flight_number'] = df['flight_number'].astype(str).str.strip()\n",
    "    if 'company_id' in df.columns:\n",
    "        df['company_id'] = df['company_id'].astype(str).str.upper().str.strip()\n",
    "    if 'scheduled_departure_date_local' in df.columns:\n",
    "        df['scheduled_departure_date_local'] = pd.to_datetime(df['scheduled_departure_date_local'], errors='coerce')"
   ]
  },
  {
   "cell_type": "code",
   "execution_count": 19,
   "id": "354af5bf-1dc3-4663-b18c-6c7516253275",
   "metadata": {},
   "outputs": [
    {
     "name": "stdout",
     "output_type": "stream",
     "text": [
      "Flight Data Clean: (8099, 15)\n",
      "PNR Flight Data Clean: (687878, 12)\n",
      "PNR Remarks Clean: (51698, 4)\n",
      "Airports Data Clean: (5612, 2)\n",
      "Bags Data Clean: (686952, 8)\n"
     ]
    }
   ],
   "source": [
    "print(\"Flight Data Clean:\", flights.shape)\n",
    "print(\"PNR Flight Data Clean:\", pnr_flight.shape)\n",
    "print(\"PNR Remarks Clean:\", pnr_remarks.shape)\n",
    "print(\"Airports Data Clean:\", airports.shape)\n",
    "print(\"Bags Data Clean:\", bags.shape)"
   ]
  }
 ],
 "metadata": {
  "kernelspec": {
   "display_name": "Python (env)",
   "language": "python",
   "name": "env"
  },
  "language_info": {
   "codemirror_mode": {
    "name": "ipython",
    "version": 3
   },
   "file_extension": ".py",
   "mimetype": "text/x-python",
   "name": "python",
   "nbconvert_exporter": "python",
   "pygments_lexer": "ipython3",
   "version": "3.13.7"
  }
 },
 "nbformat": 4,
 "nbformat_minor": 5
}
