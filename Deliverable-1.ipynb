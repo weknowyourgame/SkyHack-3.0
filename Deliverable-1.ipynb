{
 "cells": [
  {
   "cell_type": "markdown",
   "id": "a021680a-9f28-4985-8e5e-4029db816b8e",
   "metadata": {},
   "source": [
    "## Exploratory Data Analysis: Flight Delay Metrics for ORD Departures\n",
    "\n",
    "## Objective\n",
    "### Calculate the **average delay** (in minutes) and the **percentage of flights departing later than scheduled** for flights departing from Chicago O'Hare International Airport (ORD) using the Flight Level Data.\n",
    "\n",
    "### Approach\n",
    "- Load `Flight Level Data.csv` and filter for ORD departures.\n",
    "- Compute delays by subtracting `scheduled_departure_datetime_local` from `actual_departure_datetime_local`.\n",
    "- Calculate the average delay and percentage of flights with positive delays.\n",
    "- Visualize the delay distribution with a histogram.\n",
    "- Save results to a CSV for reporting.\n",
    "\n",
    "### Prerequisites\n",
    "- Python 3.x\n",
    "- Libraries: `pandas`, `matplotlib`, `seaborn`\n",
    "- Dataset: `Flight Level Data.csv` with columns `scheduled_departure_datetime_local`, `actual_departure_datetime_local`, and `scheduled_departure_station_code`.\n",
    "- Install libraries: `pip install pandas matplotlib seaborn`"
   ]
  },
  {
   "cell_type": "code",
   "execution_count": 2,
   "id": "081db0d2-6de3-4c2b-a34d-b1a467bcf26e",
   "metadata": {},
   "outputs": [],
   "source": [
    "import pandas as pd\n",
    "import matplotlib.pyplot as plt\n",
    "import seaborn as sns\n",
    "import logging\n",
    "import os"
   ]
  },
  {
   "cell_type": "code",
   "execution_count": 4,
   "id": "a2052b3a-fccc-427e-8208-3365fcf6e622",
   "metadata": {},
   "outputs": [],
   "source": [
    "logging.basicConfig(\n",
    "    level=logging.INFO,\n",
    "    format='%(asctime)s - %(levelname)s - %(message)s',\n",
    "    handlers=[\n",
    "        logging.FileHandler('eda_delay_analysis.log'),\n",
    "        logging.StreamHandler()\n",
    "    ]\n",
    ")\n",
    "logger = logging.getLogger(__name__)"
   ]
  },
  {
   "cell_type": "code",
   "execution_count": 5,
   "id": "1a1e758c-16bb-46ca-b4f9-09849f291ab6",
   "metadata": {},
   "outputs": [],
   "source": [
    "sns.set_style('whitegrid')\n",
    "%matplotlib inline"
   ]
  },
  {
   "cell_type": "code",
   "execution_count": 6,
   "id": "bdb91b8d-54b0-4f8e-acdb-fb58443f0894",
   "metadata": {},
   "outputs": [
    {
     "name": "stderr",
     "output_type": "stream",
     "text": [
      "2025-10-04 12:35:22,341 - INFO - Loading flight data from Flight Level Data.csv\n",
      "2025-10-04 12:35:22,415 - INFO - Loaded 8099 flights departing from ORD\n"
     ]
    }
   ],
   "source": [
    "# Load and Filter Flight Data\n",
    "def load_flight_data(file_path):\n",
    "    \"\"\"\n",
    "    Load and filter flight data for ORD departures.\n",
    "    \n",
    "    Args:\n",
    "        file_path (str): Path to the Flight Level Data CSV file.\n",
    "    \n",
    "    Returns:\n",
    "        pd.DataFrame: Filtered DataFrame containing ORD departures.\n",
    "    \"\"\"\n",
    "    try:\n",
    "        logger.info(f\"Loading flight data from {file_path}\")\n",
    "        df = pd.read_csv(file_path)\n",
    "        # Filter for ORD departures\n",
    "        df = df[df['scheduled_departure_station_code'] == 'ORD'].copy()\n",
    "        logger.info(f\"Loaded {len(df)} flights departing from ORD\")\n",
    "        return df\n",
    "    except FileNotFoundError:\n",
    "        logger.error(f\"File {file_path} not found\")\n",
    "        raise\n",
    "    except Exception as e:\n",
    "        logger.error(f\"Error loading data: {str(e)}\")\n",
    "        raise\n",
    "\n",
    "# Load\n",
    "flight_data_path = 'Flight Level Data.csv'\n",
    "flight_df = load_flight_data(flight_data_path)"
   ]
  },
  {
   "cell_type": "code",
   "execution_count": 7,
   "id": "8cfdac08-6502-4c1b-855e-a5b580aa0575",
   "metadata": {},
   "outputs": [
    {
     "name": "stderr",
     "output_type": "stream",
     "text": [
      "2025-10-04 12:35:25,380 - INFO - Calculating delay metrics\n",
      "2025-10-04 12:35:25,468 - INFO - Delay metrics: {'average_delay_minutes': np.float64(21.18), 'percent_delayed_flights': 49.61, 'total_flights': 8099, 'delayed_flights': 4018}\n"
     ]
    },
    {
     "name": "stdout",
     "output_type": "stream",
     "text": [
      "Average Delay: 21.18 minutes\n",
      "Percentage of Delayed Flights: 49.61%\n",
      "Total Flights Analyzed: 8099\n",
      "Delayed Flights: 4018\n"
     ]
    }
   ],
   "source": [
    "# Calculate Delay Metrics\n",
    "def calculate_delay_metrics(df):\n",
    "    \"\"\"\n",
    "    Calculate average delay and percentage of delayed flights.\n",
    "    \n",
    "    Args:\n",
    "        df (pd.DataFrame): DataFrame with flight data.\n",
    "    \n",
    "    Returns:\n",
    "        dict: Dictionary containing average delay and percentage of delayed flights.\n",
    "    \"\"\"\n",
    "    try:\n",
    "        logger.info(\"Calculating delay metrics\")\n",
    "        # Ensure required columns exist\n",
    "        required_columns = ['scheduled_departure_datetime_local', 'actual_departure_datetime_local']\n",
    "        if not all(col in df.columns for col in required_columns):\n",
    "            raise ValueError(\"Required columns for delay calculation are missing\")\n",
    "\n",
    "        # Convert datetime columns\n",
    "        df['scheduled_departure_datetime_local'] = pd.to_datetime(\n",
    "            df['scheduled_departure_datetime_local'], errors='coerce'\n",
    "        )\n",
    "        df['actual_departure_datetime_local'] = pd.to_datetime(\n",
    "            df['actual_departure_datetime_local'], errors='coerce'\n",
    "        )\n",
    "\n",
    "        # Calculate delay in minutes\n",
    "        df['delay_minutes'] = (\n",
    "            (df['actual_departure_datetime_local'] - df['scheduled_departure_datetime_local'])\n",
    "            .dt.total_seconds() / 60\n",
    "        )\n",
    "\n",
    "        # Handle missing delays\n",
    "        initial_row_count = len(df)\n",
    "        df = df.dropna(subset=['delay_minutes'])\n",
    "        if len(df) < initial_row_count:\n",
    "            logger.warning(f\"Dropped {initial_row_count - len(df)} rows due to missing delay data\")\n",
    "\n",
    "        # Calculate metrics\n",
    "        avg_delay = df['delay_minutes'].mean()\n",
    "        delayed_flights = df[df['delay_minutes'] > 0]\n",
    "        percent_delayed = (len(delayed_flights) / len(df)) * 100 if len(df) > 0 else 0\n",
    "\n",
    "        metrics = {\n",
    "            'average_delay_minutes': round(avg_delay, 2),\n",
    "            'percent_delayed_flights': round(percent_delayed, 2),\n",
    "            'total_flights': len(df),\n",
    "            'delayed_flights': len(delayed_flights)\n",
    "        }\n",
    "        logger.info(f\"Delay metrics: {metrics}\")\n",
    "        return metrics, df\n",
    "    except Exception as e:\n",
    "        logger.error(f\"Error calculating delay metrics: {str(e)}\")\n",
    "        raise\n",
    "\n",
    "# Calculate metrics\n",
    "metrics, flight_df = calculate_delay_metrics(flight_df)\n",
    "\n",
    "# Display results\n",
    "print(f\"Average Delay: {metrics['average_delay_minutes']} minutes\")\n",
    "print(f\"Percentage of Delayed Flights: {metrics['percent_delayed_flights']}%\")\n",
    "print(f\"Total Flights Analyzed: {metrics['total_flights']}\")\n",
    "print(f\"Delayed Flights: {metrics['delayed_flights']}\")"
   ]
  },
  {
   "cell_type": "code",
   "execution_count": 8,
   "id": "394436a0-9eea-48b7-ba27-73896f9dee27",
   "metadata": {},
   "outputs": [
    {
     "data": {
      "image/png": "[encoded data removed]",
      "text/plain": [
       "<Figure size 1000x600 with 1 Axes>"
      ]
     },
     "metadata": {},
     "output_type": "display_data"
    }
   ],
   "source": [
    "# Visualize Delay Distribution\n",
    "plt.figure(figsize=(10, 6))\n",
    "sns.histplot(flight_df['delay_minutes'], bins=50, kde=True)\n",
    "plt.title('Distribution of Flight Delays for ORD Departures')\n",
    "plt.xlabel('Delay (minutes)')\n",
    "plt.ylabel('Number of Flights')\n",
    "plt.axvline(x=0, color='red', linestyle='--', label='On-time Departure')\n",
    "plt.legend()\n",
    "plt.show()"
   ]
  },
  {
   "cell_type": "code",
   "execution_count": 10,
   "id": "982e9e04-5027-40fb-a8c9-35d5ad2aff0d",
   "metadata": {},
   "outputs": [
    {
     "name": "stderr",
     "output_type": "stream",
     "text": [
      "2025-10-04 12:35:44,222 - INFO - Saving results to results/delay_metrics.csv\n",
      "2025-10-04 12:35:44,235 - INFO - Results saved successfully\n"
     ]
    }
   ],
   "source": [
    "def save_results(metrics, output_path):\n",
    "    \"\"\"\n",
    "    Save delay metrics to a CSV file.\n",
    "    \n",
    "    Args:\n",
    "        metrics (dict): Dictionary containing delay metrics.\n",
    "        output_path (str): Path to save the output CSV.\n",
    "    \"\"\"\n",
    "    try:\n",
    "        logger.info(f\"Saving results to {output_path}\")\n",
    "        results_df = pd.DataFrame([metrics])\n",
    "        results_df.to_csv(output_path, index=False)\n",
    "        logger.info(\"Results saved successfully\")\n",
    "    except Exception as e:\n",
    "        logger.error(f\"Error saving results: {str(e)}\")\n",
    "        raise\n",
    "\n",
    "# Save to CSV\n",
    "save_results(metrics, 'results/delay_metrics.csv')"
   ]
  }
 ],
 "metadata": {
  "kernelspec": {
   "display_name": "Python (env)",
   "language": "python",
   "name": "env"
  },
  "language_info": {
   "codemirror_mode": {
    "name": "ipython",
    "version": 3
   },
   "file_extension": ".py",
   "mimetype": "text/x-python",
   "name": "python",
   "nbconvert_exporter": "python",
   "pygments_lexer": "ipython3",
   "version": "3.13.7"
  }
 },
 "nbformat": 4,
 "nbformat_minor": 5
}
